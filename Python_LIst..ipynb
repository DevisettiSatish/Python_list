{
 "cells": [
  {
   "cell_type": "code",
   "execution_count": null,
   "id": "1e85a530",
   "metadata": {},
   "outputs": [],
   "source": [
    "# list is mutable Data type\n",
    "# it is Represented by Square Brackets []\n",
    "# list can Accept Any Data type"
   ]
  },
  {
   "cell_type": "code",
   "execution_count": 1,
   "id": "003b5d82",
   "metadata": {},
   "outputs": [
    {
     "name": "stdout",
     "output_type": "stream",
     "text": [
      "[10, 45, 67]\n"
     ]
    }
   ],
   "source": [
    "a=[10,45,67]   # save in memory\n",
    "print(a)    # calling the function"
   ]
  },
  {
   "cell_type": "code",
   "execution_count": 11,
   "id": "38e459f1",
   "metadata": {},
   "outputs": [
    {
     "name": "stdout",
     "output_type": "stream",
     "text": [
      "<class 'list'>\n",
      "[12, 14, 16, 17, 19, 21, 'hai']\n"
     ]
    }
   ],
   "source": [
    "Mylist=[12,14,16,17,19,21,'hai']\n",
    "print(type(Mylist))\n",
    "print(Mylist)"
   ]
  },
  {
   "cell_type": "code",
   "execution_count": 2,
   "id": "c7fb0ae0",
   "metadata": {},
   "outputs": [
    {
     "name": "stdout",
     "output_type": "stream",
     "text": [
      "[150, 255.67, 'data Analysis']\n"
     ]
    }
   ],
   "source": [
    "x=[150,255.67,'data Analysis']\n",
    "print(x)"
   ]
  },
  {
   "cell_type": "code",
   "execution_count": 7,
   "id": "a5b05fcd",
   "metadata": {},
   "outputs": [
    {
     "name": "stdout",
     "output_type": "stream",
     "text": [
      "[150, 255.67, 'data Analysis']\n",
      "<class 'list'>\n"
     ]
    }
   ],
   "source": [
    "x=[150,255.67,'data Analysis']\n",
    "print(x)\n",
    "print(type(x))"
   ]
  },
  {
   "cell_type": "code",
   "execution_count": 8,
   "id": "3dc9f3f3",
   "metadata": {},
   "outputs": [
    {
     "name": "stdout",
     "output_type": "stream",
     "text": [
      "15\n",
      "20\n"
     ]
    }
   ],
   "source": [
    "numbers=[1,10,20,4,15,67]\n",
    "print(numbers[4])\n",
    "print(numbers[2])"
   ]
  },
  {
   "cell_type": "code",
   "execution_count": 9,
   "id": "718e92ff",
   "metadata": {},
   "outputs": [
    {
     "name": "stdout",
     "output_type": "stream",
     "text": [
      "4\n",
      "67\n"
     ]
    }
   ],
   "source": [
    "numbers=[1,10,20,4,15,67]\n",
    "print(numbers[-3])\n",
    "print(numbers[-1])"
   ]
  },
  {
   "cell_type": "code",
   "execution_count": 10,
   "id": "250b0e13",
   "metadata": {},
   "outputs": [
    {
     "name": "stdout",
     "output_type": "stream",
     "text": [
      "['python', 'powerbi', 'sql']\n"
     ]
    }
   ],
   "source": [
    "course=['python','powerbi','sql']\n",
    "print(course[:])"
   ]
  },
  {
   "cell_type": "code",
   "execution_count": 13,
   "id": "9367cec8",
   "metadata": {},
   "outputs": [
    {
     "name": "stdout",
     "output_type": "stream",
     "text": [
      "['powerbi', 'sql']\n"
     ]
    }
   ],
   "source": [
    "course=['python','powerbi','sql']\n",
    "print(course[1:10])"
   ]
  },
  {
   "cell_type": "code",
   "execution_count": 16,
   "id": "92c96252",
   "metadata": {},
   "outputs": [
    {
     "name": "stdout",
     "output_type": "stream",
     "text": [
      "6\n"
     ]
    }
   ],
   "source": [
    "P=[1,5,235.67,3,6,'sql','Tableau']\n",
    "print(P[4])"
   ]
  },
  {
   "cell_type": "code",
   "execution_count": 17,
   "id": "c6da8ef0",
   "metadata": {},
   "outputs": [
    {
     "name": "stdout",
     "output_type": "stream",
     "text": [
      "Tableau\n"
     ]
    }
   ],
   "source": [
    "print(P[6])"
   ]
  },
  {
   "cell_type": "code",
   "execution_count": 18,
   "id": "4a699369",
   "metadata": {},
   "outputs": [
    {
     "name": "stdout",
     "output_type": "stream",
     "text": [
      "235.67\n"
     ]
    }
   ],
   "source": [
    "print(P[-5])"
   ]
  },
  {
   "cell_type": "code",
   "execution_count": 1,
   "id": "25b7709a",
   "metadata": {},
   "outputs": [
    {
     "name": "stdout",
     "output_type": "stream",
     "text": [
      "[1, 5, 2, 5, 10, 11, 150]\n"
     ]
    }
   ],
   "source": [
    "#append function only one values add\n",
    "\n",
    "R=[1,5,2,5,10,11]\n",
    "R.append(150)\n",
    "print(R)"
   ]
  },
  {
   "cell_type": "code",
   "execution_count": 2,
   "id": "51602584",
   "metadata": {},
   "outputs": [
    {
     "name": "stdout",
     "output_type": "stream",
     "text": [
      "[100, 350.56, 2, 5, 'sql', 'python', 'powerbi']\n"
     ]
    }
   ],
   "source": [
    "values=[100,350.56,2,5,'sql','python']\n",
    "values.append('powerbi')\n",
    "print(values)"
   ]
  },
  {
   "cell_type": "code",
   "execution_count": 4,
   "id": "dacb4fd9",
   "metadata": {},
   "outputs": [
    {
     "name": "stdout",
     "output_type": "stream",
     "text": [
      "[10, 40, 60, 80, 100, 235.56, 145.45, 'machine learing', 'computer vision', 'power bi', 'sql', 'python', 'Excel']\n"
     ]
    }
   ],
   "source": [
    "# extend function multiple values\n",
    "\n",
    "values=[10,40,60,80,100,235.56,145.45,'machine learing','computer vision']\n",
    "values.extend(['power bi','sql','python','Excel'])\n",
    "print(values)"
   ]
  },
  {
   "cell_type": "code",
   "execution_count": 6,
   "id": "c7d2152a",
   "metadata": {},
   "outputs": [
    {
     "name": "stdout",
     "output_type": "stream",
     "text": [
      "[1, 5, 2, 5, 10, 11, 13, 15, 18, 20, 123.45, 'Tableau', 'Statistics']\n"
     ]
    }
   ],
   "source": [
    "Q=[1,5,2,5,10,11,13,15,18,20,123.45]\n",
    "Q.extend(['Tableau','Statistics'])\n",
    "print(Q)"
   ]
  },
  {
   "cell_type": "code",
   "execution_count": 7,
   "id": "d59241d2",
   "metadata": {},
   "outputs": [
    {
     "name": "stdout",
     "output_type": "stream",
     "text": [
      "[1, 3, 5, 'satish', 7, 11, 13, 17, 19, 23, 26]\n"
     ]
    }
   ],
   "source": [
    "# insert\n",
    "\n",
    "int=[1,3,5,7,11,13,17,19,23,26]\n",
    "\n",
    "int.insert(3,'satish')\n",
    "print(int)\n"
   ]
  },
  {
   "cell_type": "code",
   "execution_count": 8,
   "id": "629ae94c",
   "metadata": {},
   "outputs": [
    {
     "name": "stdout",
     "output_type": "stream",
     "text": [
      "[1, 3, 5, 7, 11, 13, 17, 19, 23]\n"
     ]
    }
   ],
   "source": [
    "# pop\n",
    "int=[1,3,5,7,11,13,17,19,23,26]\n",
    "\n",
    "int.pop()\n",
    "print(int)\n"
   ]
  },
  {
   "cell_type": "code",
   "execution_count": 10,
   "id": "4a4e22b2",
   "metadata": {},
   "outputs": [
    {
     "name": "stdout",
     "output_type": "stream",
     "text": [
      "[100, 200, 150, 160, 250, 'sql', 234.45]\n",
      "[100, 200, 150, 160, 250, 'sql', 234.45]\n"
     ]
    }
   ],
   "source": [
    "# copy\n",
    "a=[100,200,150,160,250,'sql',234.45]\n",
    "b=a.copy()\n",
    "\n",
    "print(a)\n",
    "print(b)"
   ]
  },
  {
   "cell_type": "code",
   "execution_count": 12,
   "id": "416566ff",
   "metadata": {},
   "outputs": [
    {
     "name": "stdout",
     "output_type": "stream",
     "text": [
      "3\n"
     ]
    }
   ],
   "source": [
    "# count\n",
    "\n",
    "N=[1,3,5,8,10,11,3,23,45,2,6,8,3]\n",
    "print(N.count(3))"
   ]
  },
  {
   "cell_type": "code",
   "execution_count": 20,
   "id": "84548d6a",
   "metadata": {},
   "outputs": [
    {
     "name": "stdout",
     "output_type": "stream",
     "text": [
      "2\n"
     ]
    }
   ],
   "source": [
    "# index\n",
    "P=[1,3,5,8,10,11,3,23,45,2,6,8,3]\n",
    "print(P.index(5))"
   ]
  },
  {
   "cell_type": "code",
   "execution_count": 15,
   "id": "05f269b9",
   "metadata": {},
   "outputs": [
    {
     "name": "stdout",
     "output_type": "stream",
     "text": [
      "[]\n"
     ]
    }
   ],
   "source": [
    "# clear \n",
    "\n",
    "M=[1,2,3,4,5,6,11,13,15]\n",
    "M.clear()\n",
    "print(M)"
   ]
  },
  {
   "cell_type": "code",
   "execution_count": 16,
   "id": "28f816cd",
   "metadata": {},
   "outputs": [
    {
     "name": "stdout",
     "output_type": "stream",
     "text": [
      "[]\n"
     ]
    }
   ],
   "source": [
    "mylist=[150,234.56,'sql','machine learing']\n",
    "mylist.clear()\n",
    "print(mylist)"
   ]
  },
  {
   "cell_type": "code",
   "execution_count": 17,
   "id": "26f4fd59",
   "metadata": {},
   "outputs": [
    {
     "name": "stdout",
     "output_type": "stream",
     "text": [
      "[1, 6, 4, 2, 78, 44, 21, 97, 45]\n"
     ]
    }
   ],
   "source": [
    "# sort\n",
    "c=  [1,6,4,2,78,44,21,97,45]\n",
    "print(c)"
   ]
  },
  {
   "cell_type": "code",
   "execution_count": 21,
   "id": "e5fdffc1",
   "metadata": {},
   "outputs": [
    {
     "name": "stdout",
     "output_type": "stream",
     "text": [
      "[45, 97, 21, 44, 78, 2, 4, 6, 1]\n"
     ]
    }
   ],
   "source": [
    "c=  [1,6,4,2,78,44,21,97,45]\n",
    "c.reverse()\n",
    "print(c)"
   ]
  },
  {
   "cell_type": "code",
   "execution_count": 24,
   "id": "635b9e97",
   "metadata": {},
   "outputs": [
    {
     "name": "stdout",
     "output_type": "stream",
     "text": [
      "[10, 11, 13]\n"
     ]
    }
   ],
   "source": [
    "# remove\n",
    "\n",
    "a = [10,11,12,13]\n",
    "\n",
    "a.remove(12)  # 12 will be removed\n",
    "\n",
    "print(a)"
   ]
  },
  {
   "cell_type": "code",
   "execution_count": 3,
   "id": "bd7505db",
   "metadata": {},
   "outputs": [
    {
     "name": "stdout",
     "output_type": "stream",
     "text": [
      "[10, 70, 30, 40, 50]\n"
     ]
    }
   ],
   "source": [
    "list=[10,70,30,40,50]\n",
    "print(list[:])"
   ]
  },
  {
   "cell_type": "code",
   "execution_count": 5,
   "id": "4df0af11",
   "metadata": {},
   "outputs": [
    {
     "name": "stdout",
     "output_type": "stream",
     "text": [
      "[10, 30, 50]\n"
     ]
    }
   ],
   "source": [
    "list=[10,70,30,40,50]\n",
    "print(list[::2])"
   ]
  },
  {
   "cell_type": "code",
   "execution_count": 7,
   "id": "fccb4cbd",
   "metadata": {},
   "outputs": [
    {
     "name": "stdout",
     "output_type": "stream",
     "text": [
      "[100, 40, 70]\n"
     ]
    }
   ],
   "source": [
    "list=[10,70,30,40,50,100]\n",
    "print(list[::-2])"
   ]
  },
  {
   "cell_type": "code",
   "execution_count": null,
   "id": "8e24f5ce",
   "metadata": {},
   "outputs": [],
   "source": []
  }
 ],
 "metadata": {
  "kernelspec": {
   "display_name": "Python 3 (ipykernel)",
   "language": "python",
   "name": "python3"
  },
  "language_info": {
   "codemirror_mode": {
    "name": "ipython",
    "version": 3
   },
   "file_extension": ".py",
   "mimetype": "text/x-python",
   "name": "python",
   "nbconvert_exporter": "python",
   "pygments_lexer": "ipython3",
   "version": "3.11.5"
  }
 },
 "nbformat": 4,
 "nbformat_minor": 5
}
